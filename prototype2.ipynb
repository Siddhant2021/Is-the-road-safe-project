{
 "cells": [
  {
   "cell_type": "markdown",
   "id": "77d8ad91",
   "metadata": {},
   "source": [
    "# Siddhant Singhai(211028)"
   ]
  },
  {
   "cell_type": "code",
   "execution_count": 36,
   "id": "ad9811e8",
   "metadata": {},
   "outputs": [
    {
     "data": {
      "text/html": [
       "<div>\n",
       "<style scoped>\n",
       "    .dataframe tbody tr th:only-of-type {\n",
       "        vertical-align: middle;\n",
       "    }\n",
       "\n",
       "    .dataframe tbody tr th {\n",
       "        vertical-align: top;\n",
       "    }\n",
       "\n",
       "    .dataframe thead th {\n",
       "        text-align: right;\n",
       "    }\n",
       "</style>\n",
       "<table border=\"1\" class=\"dataframe\">\n",
       "  <thead>\n",
       "    <tr style=\"text-align: right;\">\n",
       "      <th></th>\n",
       "      <th>city</th>\n",
       "      <th>People</th>\n",
       "      <th>Planet</th>\n",
       "      <th>Profit</th>\n",
       "      <th>Overall</th>\n",
       "      <th>Country</th>\n",
       "      <th>Continent</th>\n",
       "    </tr>\n",
       "  </thead>\n",
       "  <tbody>\n",
       "    <tr>\n",
       "      <th>0</th>\n",
       "      <td>Zurich</td>\n",
       "      <td>27</td>\n",
       "      <td>1</td>\n",
       "      <td>5</td>\n",
       "      <td>1</td>\n",
       "      <td>Switzerland</td>\n",
       "      <td>Europe</td>\n",
       "    </tr>\n",
       "    <tr>\n",
       "      <th>1</th>\n",
       "      <td>Singapore</td>\n",
       "      <td>48</td>\n",
       "      <td>12</td>\n",
       "      <td>1</td>\n",
       "      <td>2</td>\n",
       "      <td>Singapore</td>\n",
       "      <td>Asia</td>\n",
       "    </tr>\n",
       "    <tr>\n",
       "      <th>2</th>\n",
       "      <td>Stockholm</td>\n",
       "      <td>14</td>\n",
       "      <td>2</td>\n",
       "      <td>10</td>\n",
       "      <td>3</td>\n",
       "      <td>Sweden</td>\n",
       "      <td>Europe</td>\n",
       "    </tr>\n",
       "    <tr>\n",
       "      <th>3</th>\n",
       "      <td>Vienna</td>\n",
       "      <td>4</td>\n",
       "      <td>4</td>\n",
       "      <td>14</td>\n",
       "      <td>4</td>\n",
       "      <td>Austria</td>\n",
       "      <td>Europe</td>\n",
       "    </tr>\n",
       "    <tr>\n",
       "      <th>4</th>\n",
       "      <td>London</td>\n",
       "      <td>37</td>\n",
       "      <td>9</td>\n",
       "      <td>3</td>\n",
       "      <td>5</td>\n",
       "      <td>U.K.</td>\n",
       "      <td>Europe</td>\n",
       "    </tr>\n",
       "    <tr>\n",
       "      <th>...</th>\n",
       "      <td>...</td>\n",
       "      <td>...</td>\n",
       "      <td>...</td>\n",
       "      <td>...</td>\n",
       "      <td>...</td>\n",
       "      <td>...</td>\n",
       "      <td>...</td>\n",
       "    </tr>\n",
       "    <tr>\n",
       "      <th>95</th>\n",
       "      <td>Manila</td>\n",
       "      <td>94</td>\n",
       "      <td>86</td>\n",
       "      <td>91</td>\n",
       "      <td>96</td>\n",
       "      <td>Philippines</td>\n",
       "      <td>Asia</td>\n",
       "    </tr>\n",
       "    <tr>\n",
       "      <th>96</th>\n",
       "      <td>New Delhi</td>\n",
       "      <td>87</td>\n",
       "      <td>90</td>\n",
       "      <td>96</td>\n",
       "      <td>97</td>\n",
       "      <td>India</td>\n",
       "      <td>Asia</td>\n",
       "    </tr>\n",
       "    <tr>\n",
       "      <th>97</th>\n",
       "      <td>Nairobi</td>\n",
       "      <td>98</td>\n",
       "      <td>83</td>\n",
       "      <td>90</td>\n",
       "      <td>98</td>\n",
       "      <td>Kenya</td>\n",
       "      <td>Africa</td>\n",
       "    </tr>\n",
       "    <tr>\n",
       "      <th>98</th>\n",
       "      <td>Cairo</td>\n",
       "      <td>92</td>\n",
       "      <td>93</td>\n",
       "      <td>98</td>\n",
       "      <td>99</td>\n",
       "      <td>Egypt</td>\n",
       "      <td>Africa</td>\n",
       "    </tr>\n",
       "    <tr>\n",
       "      <th>99</th>\n",
       "      <td>Kolkata</td>\n",
       "      <td>78</td>\n",
       "      <td>100</td>\n",
       "      <td>100</td>\n",
       "      <td>100</td>\n",
       "      <td>India</td>\n",
       "      <td>Asia</td>\n",
       "    </tr>\n",
       "  </tbody>\n",
       "</table>\n",
       "<p>100 rows × 7 columns</p>\n",
       "</div>"
      ],
      "text/plain": [
       "         city  People  Planet  Profit  Overall      Country Continent\n",
       "0      Zurich      27       1       5        1  Switzerland    Europe\n",
       "1   Singapore      48      12       1        2    Singapore      Asia\n",
       "2   Stockholm      14       2      10        3       Sweden    Europe\n",
       "3      Vienna       4       4      14        4      Austria    Europe\n",
       "4      London      37       9       3        5         U.K.    Europe\n",
       "..        ...     ...     ...     ...      ...          ...       ...\n",
       "95     Manila      94      86      91       96  Philippines      Asia\n",
       "96  New Delhi      87      90      96       97        India      Asia\n",
       "97    Nairobi      98      83      90       98        Kenya    Africa\n",
       "98      Cairo      92      93      98       99        Egypt    Africa\n",
       "99    Kolkata      78     100     100      100        India      Asia\n",
       "\n",
       "[100 rows x 7 columns]"
      ]
     },
     "execution_count": 36,
     "metadata": {},
     "output_type": "execute_result"
    }
   ],
   "source": [
    "import pandas as pd\n",
    "df= pd.read_csv('GreenCities-Data.csv')\n",
    "df"
   ]
  },
  {
   "cell_type": "markdown",
   "id": "faf72e01",
   "metadata": {},
   "source": [
    "# We choose the 3 P's for Overall ranking of city\n",
    "People:-\n",
    "(Social Health of city) Rates health, education, income inequality, work-life balance, ratio of wage earners to dependents)\n",
    "\n",
    "Planet:-\n",
    "sort\n",
    "(Environmental health of city) Energy consumption and renewable energy share, waste management, green space, sanitation, water index)\n",
    "\n",
    "Profit:-\n",
    "(Economic Health of City) Transport infrastructure, ease of doing business, tourism, GDP per capita, the city’s importance in world economy)"
   ]
  },
  {
   "cell_type": "code",
   "execution_count": 37,
   "id": "cd59eb1e",
   "metadata": {},
   "outputs": [
    {
     "data": {
      "text/html": [
       "<div>\n",
       "<style scoped>\n",
       "    .dataframe tbody tr th:only-of-type {\n",
       "        vertical-align: middle;\n",
       "    }\n",
       "\n",
       "    .dataframe tbody tr th {\n",
       "        vertical-align: top;\n",
       "    }\n",
       "\n",
       "    .dataframe thead th {\n",
       "        text-align: right;\n",
       "    }\n",
       "</style>\n",
       "<table border=\"1\" class=\"dataframe\">\n",
       "  <thead>\n",
       "    <tr style=\"text-align: right;\">\n",
       "      <th></th>\n",
       "      <th>People</th>\n",
       "      <th>Planet</th>\n",
       "      <th>Profit</th>\n",
       "      <th>Overall</th>\n",
       "    </tr>\n",
       "  </thead>\n",
       "  <tbody>\n",
       "    <tr>\n",
       "      <th>0</th>\n",
       "      <td>27</td>\n",
       "      <td>1</td>\n",
       "      <td>5</td>\n",
       "      <td>1</td>\n",
       "    </tr>\n",
       "    <tr>\n",
       "      <th>1</th>\n",
       "      <td>48</td>\n",
       "      <td>12</td>\n",
       "      <td>1</td>\n",
       "      <td>2</td>\n",
       "    </tr>\n",
       "    <tr>\n",
       "      <th>2</th>\n",
       "      <td>14</td>\n",
       "      <td>2</td>\n",
       "      <td>10</td>\n",
       "      <td>3</td>\n",
       "    </tr>\n",
       "    <tr>\n",
       "      <th>3</th>\n",
       "      <td>4</td>\n",
       "      <td>4</td>\n",
       "      <td>14</td>\n",
       "      <td>4</td>\n",
       "    </tr>\n",
       "    <tr>\n",
       "      <th>4</th>\n",
       "      <td>37</td>\n",
       "      <td>9</td>\n",
       "      <td>3</td>\n",
       "      <td>5</td>\n",
       "    </tr>\n",
       "  </tbody>\n",
       "</table>\n",
       "</div>"
      ],
      "text/plain": [
       "   People  Planet  Profit  Overall\n",
       "0      27       1       5        1\n",
       "1      48      12       1        2\n",
       "2      14       2      10        3\n",
       "3       4       4      14        4\n",
       "4      37       9       3        5"
      ]
     },
     "execution_count": 37,
     "metadata": {},
     "output_type": "execute_result"
    }
   ],
   "source": [
    "modified_df=df[['People','Planet','Profit','Overall']]\n",
    "modified_df.head()"
   ]
  },
  {
   "cell_type": "markdown",
   "id": "abb2044d",
   "metadata": {},
   "source": [
    "Shuffle the data ,so to divide it in train ,val ,test groups"
   ]
  },
  {
   "cell_type": "code",
   "execution_count": 38,
   "id": "9e8e3a97",
   "metadata": {},
   "outputs": [
    {
     "data": {
      "text/html": [
       "<div>\n",
       "<style scoped>\n",
       "    .dataframe tbody tr th:only-of-type {\n",
       "        vertical-align: middle;\n",
       "    }\n",
       "\n",
       "    .dataframe tbody tr th {\n",
       "        vertical-align: top;\n",
       "    }\n",
       "\n",
       "    .dataframe thead th {\n",
       "        text-align: right;\n",
       "    }\n",
       "</style>\n",
       "<table border=\"1\" class=\"dataframe\">\n",
       "  <thead>\n",
       "    <tr style=\"text-align: right;\">\n",
       "      <th></th>\n",
       "      <th>People</th>\n",
       "      <th>Planet</th>\n",
       "      <th>Profit</th>\n",
       "      <th>Overall</th>\n",
       "    </tr>\n",
       "  </thead>\n",
       "  <tbody>\n",
       "    <tr>\n",
       "      <th>42</th>\n",
       "      <td>61</td>\n",
       "      <td>35</td>\n",
       "      <td>33</td>\n",
       "      <td>43</td>\n",
       "    </tr>\n",
       "    <tr>\n",
       "      <th>2</th>\n",
       "      <td>14</td>\n",
       "      <td>2</td>\n",
       "      <td>10</td>\n",
       "      <td>3</td>\n",
       "    </tr>\n",
       "    <tr>\n",
       "      <th>27</th>\n",
       "      <td>10</td>\n",
       "      <td>27</td>\n",
       "      <td>54</td>\n",
       "      <td>28</td>\n",
       "    </tr>\n",
       "    <tr>\n",
       "      <th>24</th>\n",
       "      <td>31</td>\n",
       "      <td>14</td>\n",
       "      <td>51</td>\n",
       "      <td>25</td>\n",
       "    </tr>\n",
       "    <tr>\n",
       "      <th>85</th>\n",
       "      <td>71</td>\n",
       "      <td>55</td>\n",
       "      <td>97</td>\n",
       "      <td>86</td>\n",
       "    </tr>\n",
       "  </tbody>\n",
       "</table>\n",
       "</div>"
      ],
      "text/plain": [
       "    People  Planet  Profit  Overall\n",
       "42      61      35      33       43\n",
       "2       14       2      10        3\n",
       "27      10      27      54       28\n",
       "24      31      14      51       25\n",
       "85      71      55      97       86"
      ]
     },
     "execution_count": 38,
     "metadata": {},
     "output_type": "execute_result"
    }
   ],
   "source": [
    "shuffled_df = modified_df.sample(frac=1)\n",
    "\n",
    "shuffled_df.head()"
   ]
  },
  {
   "cell_type": "markdown",
   "id": "cc1094cc",
   "metadata": {},
   "source": [
    "We give 60 rows to train the model\n",
    "20 rows for each test and valiate the model"
   ]
  },
  {
   "cell_type": "code",
   "execution_count": 39,
   "id": "972f562e",
   "metadata": {},
   "outputs": [],
   "source": [
    "train_df = shuffled_df[:60]\n",
    "val_df = shuffled_df[60:80]\n",
    "test_df = shuffled_df[80:]"
   ]
  },
  {
   "cell_type": "code",
   "execution_count": 40,
   "id": "7f612fa1",
   "metadata": {},
   "outputs": [
    {
     "data": {
      "text/plain": [
       "(((60, 3), (60,)), ((20, 3), (20,)), ((20, 3), (20,)))"
      ]
     },
     "execution_count": 40,
     "metadata": {},
     "output_type": "execute_result"
    }
   ],
   "source": [
    "X_train, y_train = train_df.to_numpy()[:, :-1], train_df.to_numpy()[:, -1]\n",
    "X_val, y_val = val_df.to_numpy()[:, :-1], val_df.to_numpy()[:, -1]\n",
    "X_test, y_test = test_df.to_numpy()[:, :-1], test_df.to_numpy()[:, -1]\n",
    "\n",
    "(X_train.shape, y_train.shape), (X_val.shape, y_val.shape), (X_test.shape, y_test.shape)"
   ]
  },
  {
   "cell_type": "markdown",
   "id": "f90fe8ff",
   "metadata": {},
   "source": [
    "Check any hypothetical country's overall rank via these 3 p's"
   ]
  },
  {
   "cell_type": "code",
   "execution_count": 41,
   "id": "5f19341f",
   "metadata": {
    "scrolled": true
   },
   "outputs": [
    {
     "data": {
      "text/plain": [
       "array([3])"
      ]
     },
     "execution_count": 41,
     "metadata": {},
     "output_type": "execute_result"
    }
   ],
   "source": [
    "\n",
    "from sklearn.tree import DecisionTreeClassifier\n",
    "\n",
    "\n",
    "model =DecisionTreeClassifier()\n",
    "\n",
    "model.fit(X_train,y_train)\n",
    "People,Planet,Profit=map(int,input(\"Enter 3 values:\").split())\n",
    "\n",
    "prediction = model.predict([[People,Planet,Profit]])\n",
    "prediction"
   ]
  },
  {
   "cell_type": "markdown",
   "id": "3bb95d33",
   "metadata": {},
   "source": [
    "Check its accuracy"
   ]
  },
  {
   "cell_type": "code",
   "execution_count": 42,
   "id": "643976b3",
   "metadata": {},
   "outputs": [
    {
     "data": {
      "text/plain": [
       "1.0"
      ]
     },
     "execution_count": 42,
     "metadata": {},
     "output_type": "execute_result"
    }
   ],
   "source": [
    "from sklearn.metrics import accuracy_score\n",
    "prediction = model.predict(X_train)\n",
    "accuracy=accuracy_score(y_train,prediction)\n",
    "accuracy"
   ]
  },
  {
   "cell_type": "markdown",
   "id": "6f799156",
   "metadata": {},
   "source": [
    "Creating a base line model"
   ]
  },
  {
   "cell_type": "code",
   "execution_count": 43,
   "id": "07759ca2",
   "metadata": {},
   "outputs": [
    {
     "data": {
      "text/plain": [
       "28.165"
      ]
     },
     "execution_count": 43,
     "metadata": {},
     "output_type": "execute_result"
    }
   ],
   "source": [
    "from sklearn.metrics import mean_absolute_error\n",
    "\n",
    "average_speed = y_train.mean()\n",
    "\n",
    "mean_absolute_error(y_val, [average_speed]*len(y_val))"
   ]
  },
  {
   "cell_type": "markdown",
   "id": "0fe4e5a5",
   "metadata": {},
   "source": [
    "Making a linear Regression Model"
   ]
  },
  {
   "cell_type": "code",
   "execution_count": 44,
   "id": "8c85ab79",
   "metadata": {
    "scrolled": true
   },
   "outputs": [
    {
     "data": {
      "text/plain": [
       "2.4313751315537315"
      ]
     },
     "execution_count": 44,
     "metadata": {},
     "output_type": "execute_result"
    }
   ],
   "source": [
    "from sklearn.linear_model import LinearRegression\n",
    "linear_model = LinearRegression().fit(X_train, y_train)\n",
    "float(mean_absolute_error(y_val, linear_model.predict(X_val)))"
   ]
  },
  {
   "cell_type": "markdown",
   "id": "4514ff53",
   "metadata": {},
   "source": [
    "Making a Random Forest Model"
   ]
  },
  {
   "cell_type": "code",
   "execution_count": 45,
   "id": "abc9b53a",
   "metadata": {},
   "outputs": [
    {
     "data": {
      "text/plain": [
       "4.539999999999999"
      ]
     },
     "execution_count": 45,
     "metadata": {},
     "output_type": "execute_result"
    }
   ],
   "source": [
    "from sklearn.ensemble import RandomForestRegressor\n",
    "\n",
    "random_forest = RandomForestRegressor().fit(X_train, y_train)\n",
    "\n",
    "mean_absolute_error(y_val, random_forest.predict(X_val))"
   ]
  },
  {
   "cell_type": "markdown",
   "id": "025a40d4",
   "metadata": {},
   "source": [
    "We can clearly see Linear Regreesion model is more accurate than Random Forest model"
   ]
  }
 ],
 "metadata": {
  "interpreter": {
   "hash": "aee8b7b246df8f9039afb4144a1f6fd8d2ca17a180786b69acc140d282b71a49"
  },
  "kernelspec": {
   "display_name": "Python 3 (ipykernel)",
   "language": "python",
   "name": "python3"
  },
  "language_info": {
   "codemirror_mode": {
    "name": "ipython",
    "version": 3
   },
   "file_extension": ".py",
   "mimetype": "text/x-python",
   "name": "python",
   "nbconvert_exporter": "python",
   "pygments_lexer": "ipython3",
   "version": "3.10.3"
  }
 },
 "nbformat": 4,
 "nbformat_minor": 5
}
