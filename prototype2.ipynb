{
 "cells": [
  {
   "cell_type": "markdown",
   "id": "77d8ad91",
   "metadata": {},
   "source": [
    "# Siddhant Singhai(211028)"
   ]
  },
  {
   "cell_type": "code",
   "execution_count": 1,
   "id": "ad9811e8",
   "metadata": {},
   "outputs": [
    {
     "ename": "ModuleNotFoundError",
     "evalue": "No module named 'pandas'",
     "output_type": "error",
     "traceback": [
      "\u001b[0;31m---------------------------------------------------------------------------\u001b[0m",
      "\u001b[0;31mModuleNotFoundError\u001b[0m                       Traceback (most recent call last)",
      "\u001b[1;32m/Users/siddhant/Coding Lectures/ML- LR project/prototype2.ipynb Cell 2'\u001b[0m in \u001b[0;36m<cell line: 1>\u001b[0;34m()\u001b[0m\n\u001b[0;32m----> <a href='vscode-notebook-cell:/Users/siddhant/Coding%20Lectures/ML-%20LR%20project/prototype2.ipynb#ch0000002?line=0'>1</a>\u001b[0m \u001b[39mimport\u001b[39;00m \u001b[39mpandas\u001b[39;00m \u001b[39mas\u001b[39;00m \u001b[39mpd\u001b[39;00m\n\u001b[1;32m      <a href='vscode-notebook-cell:/Users/siddhant/Coding%20Lectures/ML-%20LR%20project/prototype2.ipynb#ch0000002?line=1'>2</a>\u001b[0m df\u001b[39m=\u001b[39m pd\u001b[39m.\u001b[39mread_csv(\u001b[39m'\u001b[39m\u001b[39mGreenCities-Data.csv\u001b[39m\u001b[39m'\u001b[39m)\n\u001b[1;32m      <a href='vscode-notebook-cell:/Users/siddhant/Coding%20Lectures/ML-%20LR%20project/prototype2.ipynb#ch0000002?line=2'>3</a>\u001b[0m df\n",
      "\u001b[0;31mModuleNotFoundError\u001b[0m: No module named 'pandas'"
     ]
    }
   ],
   "source": [
    "import pandas as pd\n",
    "df= pd.read_csv('GreenCities-Data.csv')\n",
    "df"
   ]
  },
  {
   "cell_type": "markdown",
   "id": "faf72e01",
   "metadata": {},
   "source": [
    "# We choose the 3 P's for Overall ranking of city\n",
    "People:-\n",
    "(Social Health of city) Rates health, education, income inequality, work-life balance, ratio of wage earners to dependents)\n",
    "\n",
    "Planet:-\n",
    "sort\n",
    "(Environmental health of city) Energy consumption and renewable energy share, waste management, green space, sanitation, water index)\n",
    "\n",
    "Profit:-\n",
    "(Economic Health of City) Transport infrastructure, ease of doing business, tourism, GDP per capita, the city’s importance in world economy)"
   ]
  },
  {
   "cell_type": "code",
   "execution_count": null,
   "id": "cd59eb1e",
   "metadata": {},
   "outputs": [
    {
     "data": {
      "text/html": [
       "<div>\n",
       "<style scoped>\n",
       "    .dataframe tbody tr th:only-of-type {\n",
       "        vertical-align: middle;\n",
       "    }\n",
       "\n",
       "    .dataframe tbody tr th {\n",
       "        vertical-align: top;\n",
       "    }\n",
       "\n",
       "    .dataframe thead th {\n",
       "        text-align: right;\n",
       "    }\n",
       "</style>\n",
       "<table border=\"1\" class=\"dataframe\">\n",
       "  <thead>\n",
       "    <tr style=\"text-align: right;\">\n",
       "      <th></th>\n",
       "      <th>People</th>\n",
       "      <th>Planet</th>\n",
       "      <th>Profit</th>\n",
       "      <th>Overall</th>\n",
       "    </tr>\n",
       "  </thead>\n",
       "  <tbody>\n",
       "    <tr>\n",
       "      <th>0</th>\n",
       "      <td>27</td>\n",
       "      <td>1</td>\n",
       "      <td>5</td>\n",
       "      <td>1</td>\n",
       "    </tr>\n",
       "    <tr>\n",
       "      <th>1</th>\n",
       "      <td>48</td>\n",
       "      <td>12</td>\n",
       "      <td>1</td>\n",
       "      <td>2</td>\n",
       "    </tr>\n",
       "    <tr>\n",
       "      <th>2</th>\n",
       "      <td>14</td>\n",
       "      <td>2</td>\n",
       "      <td>10</td>\n",
       "      <td>3</td>\n",
       "    </tr>\n",
       "    <tr>\n",
       "      <th>3</th>\n",
       "      <td>4</td>\n",
       "      <td>4</td>\n",
       "      <td>14</td>\n",
       "      <td>4</td>\n",
       "    </tr>\n",
       "    <tr>\n",
       "      <th>4</th>\n",
       "      <td>37</td>\n",
       "      <td>9</td>\n",
       "      <td>3</td>\n",
       "      <td>5</td>\n",
       "    </tr>\n",
       "  </tbody>\n",
       "</table>\n",
       "</div>"
      ],
      "text/plain": [
       "   People  Planet  Profit  Overall\n",
       "0      27       1       5        1\n",
       "1      48      12       1        2\n",
       "2      14       2      10        3\n",
       "3       4       4      14        4\n",
       "4      37       9       3        5"
      ]
     },
     "execution_count": 2,
     "metadata": {},
     "output_type": "execute_result"
    }
   ],
   "source": [
    "modified_df=df[['People','Planet','Profit','Overall']]\n",
    "modified_df.head()"
   ]
  },
  {
   "cell_type": "markdown",
   "id": "abb2044d",
   "metadata": {},
   "source": [
    "Shuffle the data ,so to divide it in train ,val ,test groups"
   ]
  },
  {
   "cell_type": "code",
   "execution_count": null,
   "id": "9e8e3a97",
   "metadata": {},
   "outputs": [
    {
     "data": {
      "text/html": [
       "<div>\n",
       "<style scoped>\n",
       "    .dataframe tbody tr th:only-of-type {\n",
       "        vertical-align: middle;\n",
       "    }\n",
       "\n",
       "    .dataframe tbody tr th {\n",
       "        vertical-align: top;\n",
       "    }\n",
       "\n",
       "    .dataframe thead th {\n",
       "        text-align: right;\n",
       "    }\n",
       "</style>\n",
       "<table border=\"1\" class=\"dataframe\">\n",
       "  <thead>\n",
       "    <tr style=\"text-align: right;\">\n",
       "      <th></th>\n",
       "      <th>People</th>\n",
       "      <th>Planet</th>\n",
       "      <th>Profit</th>\n",
       "      <th>Overall</th>\n",
       "    </tr>\n",
       "  </thead>\n",
       "  <tbody>\n",
       "    <tr>\n",
       "      <th>68</th>\n",
       "      <td>72</td>\n",
       "      <td>65</td>\n",
       "      <td>65</td>\n",
       "      <td>69</td>\n",
       "    </tr>\n",
       "    <tr>\n",
       "      <th>78</th>\n",
       "      <td>97</td>\n",
       "      <td>30</td>\n",
       "      <td>84</td>\n",
       "      <td>79</td>\n",
       "    </tr>\n",
       "    <tr>\n",
       "      <th>91</th>\n",
       "      <td>86</td>\n",
       "      <td>75</td>\n",
       "      <td>93</td>\n",
       "      <td>92</td>\n",
       "    </tr>\n",
       "    <tr>\n",
       "      <th>93</th>\n",
       "      <td>62</td>\n",
       "      <td>99</td>\n",
       "      <td>89</td>\n",
       "      <td>94</td>\n",
       "    </tr>\n",
       "    <tr>\n",
       "      <th>9</th>\n",
       "      <td>8</td>\n",
       "      <td>24</td>\n",
       "      <td>11</td>\n",
       "      <td>10</td>\n",
       "    </tr>\n",
       "  </tbody>\n",
       "</table>\n",
       "</div>"
      ],
      "text/plain": [
       "    People  Planet  Profit  Overall\n",
       "68      72      65      65       69\n",
       "78      97      30      84       79\n",
       "91      86      75      93       92\n",
       "93      62      99      89       94\n",
       "9        8      24      11       10"
      ]
     },
     "execution_count": 3,
     "metadata": {},
     "output_type": "execute_result"
    }
   ],
   "source": [
    "shuffled_df = modified_df.sample(frac=1)\n",
    "\n",
    "shuffled_df.head()"
   ]
  },
  {
   "cell_type": "markdown",
   "id": "cc1094cc",
   "metadata": {},
   "source": [
    "We give 60 rows to train the model\n",
    "20 rows for each test and valiate the model"
   ]
  },
  {
   "cell_type": "code",
   "execution_count": null,
   "id": "972f562e",
   "metadata": {},
   "outputs": [],
   "source": [
    "train_df = shuffled_df[:60]\n",
    "val_df = shuffled_df[60:80]\n",
    "test_df = shuffled_df[80:]"
   ]
  },
  {
   "cell_type": "code",
   "execution_count": null,
   "id": "7f612fa1",
   "metadata": {},
   "outputs": [
    {
     "data": {
      "text/plain": [
       "(((60, 3), (60,)), ((20, 3), (20,)), ((20, 3), (20,)))"
      ]
     },
     "execution_count": 5,
     "metadata": {},
     "output_type": "execute_result"
    }
   ],
   "source": [
    "X_train, y_train = train_df.to_numpy()[:, :-1], train_df.to_numpy()[:, -1]\n",
    "X_val, y_val = val_df.to_numpy()[:, :-1], val_df.to_numpy()[:, -1]\n",
    "X_test, y_test = test_df.to_numpy()[:, :-1], test_df.to_numpy()[:, -1]\n",
    "\n",
    "(X_train.shape, y_train.shape), (X_val.shape, y_val.shape), (X_test.shape, y_test.shape)"
   ]
  },
  {
   "cell_type": "markdown",
   "id": "f90fe8ff",
   "metadata": {},
   "source": [
    "Check any hypothetical country's overall rank via these 3 p's"
   ]
  },
  {
   "cell_type": "code",
   "execution_count": null,
   "id": "5f19341f",
   "metadata": {
    "scrolled": true
   },
   "outputs": [
    {
     "name": "stdout",
     "output_type": "stream",
     "text": [
      "Enter 3 values:3 4 3\n"
     ]
    },
    {
     "data": {
      "text/plain": [
       "array([8])"
      ]
     },
     "execution_count": 6,
     "metadata": {},
     "output_type": "execute_result"
    }
   ],
   "source": [
    "from sklearn.tree import DecisionTreeClassifier\n",
    "\n",
    "\n",
    "model =DecisionTreeClassifier()\n",
    "\n",
    "model.fit(X_train,y_train)\n",
    "People,Planet,Profit=map(int,input(\"Enter 3 values:\").split())\n",
    "\n",
    "prediction = model.predict([[People,Planet,Profit]])\n",
    "prediction"
   ]
  },
  {
   "cell_type": "markdown",
   "id": "3bb95d33",
   "metadata": {},
   "source": [
    "Check its accuracy"
   ]
  },
  {
   "cell_type": "code",
   "execution_count": null,
   "id": "643976b3",
   "metadata": {},
   "outputs": [
    {
     "data": {
      "text/plain": [
       "1.0"
      ]
     },
     "execution_count": 7,
     "metadata": {},
     "output_type": "execute_result"
    }
   ],
   "source": [
    "from sklearn.metrics import accuracy_score\n",
    "prediction = model.predict(X_train)\n",
    "accuracy=accuracy_score(y_train,prediction)\n",
    "accuracy"
   ]
  },
  {
   "cell_type": "markdown",
   "id": "6f799156",
   "metadata": {},
   "source": [
    "Creating a base line model"
   ]
  },
  {
   "cell_type": "code",
   "execution_count": null,
   "id": "07759ca2",
   "metadata": {},
   "outputs": [
    {
     "data": {
      "text/plain": [
       "19.3"
      ]
     },
     "execution_count": 8,
     "metadata": {},
     "output_type": "execute_result"
    }
   ],
   "source": [
    "from sklearn.metrics import mean_absolute_error\n",
    "\n",
    "average_speed = y_train.mean()\n",
    "\n",
    "mean_absolute_error(y_val, [average_speed]*len(y_val))"
   ]
  },
  {
   "cell_type": "markdown",
   "id": "0fe4e5a5",
   "metadata": {},
   "source": [
    "Making a linear Regression Model"
   ]
  },
  {
   "cell_type": "code",
   "execution_count": null,
   "id": "8c85ab79",
   "metadata": {
    "scrolled": true
   },
   "outputs": [
    {
     "data": {
      "text/plain": [
       "3.137576860869054"
      ]
     },
     "execution_count": 9,
     "metadata": {},
     "output_type": "execute_result"
    }
   ],
   "source": [
    "from sklearn.linear_model import LinearRegression\n",
    "linear_model = LinearRegression().fit(X_train, y_train)\n",
    "float(mean_absolute_error(y_val, linear_model.predict(X_val)))"
   ]
  },
  {
   "cell_type": "markdown",
   "id": "4514ff53",
   "metadata": {},
   "source": [
    "Making a Random Forest Model"
   ]
  },
  {
   "cell_type": "code",
   "execution_count": null,
   "id": "abc9b53a",
   "metadata": {},
   "outputs": [
    {
     "data": {
      "text/plain": [
       "4.480000000000001"
      ]
     },
     "execution_count": 10,
     "metadata": {},
     "output_type": "execute_result"
    }
   ],
   "source": [
    "from sklearn.ensemble import RandomForestRegressor\n",
    "\n",
    "random_forest = RandomForestRegressor().fit(X_train, y_train)\n",
    "\n",
    "mean_absolute_error(y_val, random_forest.predict(X_val))"
   ]
  },
  {
   "cell_type": "markdown",
   "id": "025a40d4",
   "metadata": {},
   "source": [
    "We can clearly see Linear Regreesion model is more accurate than Random Forest model"
   ]
  }
 ],
 "metadata": {
  "interpreter": {
   "hash": "aee8b7b246df8f9039afb4144a1f6fd8d2ca17a180786b69acc140d282b71a49"
  },
  "kernelspec": {
   "display_name": "Python 3 (ipykernel)",
   "language": "python",
   "name": "python3"
  },
  "language_info": {
   "codemirror_mode": {
    "name": "ipython",
    "version": 3
   },
   "file_extension": ".py",
   "mimetype": "text/x-python",
   "name": "python",
   "nbconvert_exporter": "python",
   "pygments_lexer": "ipython3",
   "version": "3.10.3"
  }
 },
 "nbformat": 4,
 "nbformat_minor": 5
}
